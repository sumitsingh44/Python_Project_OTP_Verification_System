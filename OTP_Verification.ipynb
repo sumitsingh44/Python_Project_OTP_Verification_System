{
 "cells": [
  {
   "cell_type": "markdown",
   "metadata": {},
   "source": [
    "<p style=\"text-align:center; font-size:40px;\"><span style=\"color:orange;\">OTP VERIFICATION SYSTEM PROJECT</span></p>\n"
   ]
  },
  {
   "cell_type": "markdown",
   "metadata": {},
   "source": [
    "<p style=\"font-size:25px;\"><span style=\"color:yellow;\">Importing Necessary Libraries</span></p>\n"
   ]
  },
  {
   "cell_type": "code",
   "execution_count": 16,
   "metadata": {},
   "outputs": [],
   "source": [
    "import random\n",
    "import smtplib\n",
    "from email.mime.text import MIMEText\n",
    "from email.mime.multipart import MIMEMultipart\n",
    "import dash\n",
    "from dash import dcc, html, Input, Output, State\n",
    "import dash_bootstrap_components as dbc\n",
    "import imaplib\n",
    "import email\n"
   ]
  },
  {
   "cell_type": "markdown",
   "metadata": {},
   "source": [
    "<p style=\"font-size:25px;\"><span style=\"color:yellow;\">Function to Generate a 6-Digit OTP</span></p>\n"
   ]
  },
  {
   "cell_type": "code",
   "execution_count": 17,
   "metadata": {},
   "outputs": [],
   "source": [
    "def generate_otp():\n",
    "    return str(random.randint(100000, 999999))\n"
   ]
  },
  {
   "cell_type": "markdown",
   "metadata": {},
   "source": [
    "<p style=\"font-size:25px;\"><span style=\"color:yellow;\">Function to send OTP to User's Email Address</span></p>\n"
   ]
  },
  {
   "cell_type": "code",
   "execution_count": 18,
   "metadata": {},
   "outputs": [],
   "source": [
    "def send_otp(email, otp):\n",
    "    # Enter your email credentials here\n",
    "    email_sender = 'sumis.singh44@gmail.com'\n",
    "    email_password = 'kvat covv bvhk eddo'\n",
    "\n",
    "    subject = 'OTP Verification for Education Purpose'\n",
    "    message = f'Dear Sumit Singh,To complete the verification process your OTP is: {otp}'\n",
    "\n",
    "    msg = MIMEMultipart()\n",
    "    msg['From'] = email_sender\n",
    "    msg['To'] = email\n",
    "    msg['Subject'] = subject\n",
    "    msg.attach(MIMEText(message, 'plain'))\n",
    "\n",
    "    try:\n",
    "        server = smtplib.SMTP('smtp.gmail.com', 587)\n",
    "        server.starttls()\n",
    "        server.login(email_sender, email_password)\n",
    "        server.sendmail(email_sender, email, msg.as_string())\n",
    "        server.quit()\n",
    "        return True\n",
    "    except Exception as e:\n",
    "        print(\"Failed to send OTP:\", e)\n",
    "        return False\n"
   ]
  },
  {
   "cell_type": "markdown",
   "metadata": {},
   "source": [
    "<p style=\"font-size:25px;\"><span style=\"color:yellow;\">Function to verify entered OTP and retrieve the actual OTP from Email</span></p>\n"
   ]
  },
  {
   "cell_type": "code",
   "execution_count": 20,
   "metadata": {},
   "outputs": [],
   "source": [
    "def verify_otp(otp, entered_otp):\n",
    "    return otp == entered_otp\n",
    "\n",
    "# Function to retrieve the actual OTP from the email or database\n",
    "def retrieve_actual_otp(email_address):\n",
    "    # Connect to Gmail IMAP server\n",
    "    mail = imaplib.IMAP4_SSL('imap.gmail.com')\n",
    "    # Login to the email account\n",
    "    mail.login('sumis.singh44@gmail.com', 'kvat covv bvhk eddo')\n",
    "    # Select the inbox folder\n",
    "    mail.select('inbox')\n",
    "    # Search for emails from the specified email address\n",
    "    result, data = mail.search(None, f'(FROM \"{email_address}\")')\n",
    "    # Get the latest email\n",
    "    latest_email_id = data[0].split()[-1]\n",
    "    # Fetch the email data\n",
    "    result, email_data = mail.fetch(latest_email_id, '(RFC822)')\n",
    "    # Parse the email message\n",
    "    raw_email = email_data[0][1]\n",
    "    msg = email.message_from_bytes(raw_email)\n",
    "    # Extract the OTP from the email body\n",
    "    body = \"\"\n",
    "    if msg.is_multipart():\n",
    "        for part in msg.walk():\n",
    "            if part.get_content_type() == 'text/plain':\n",
    "                body = part.get_payload(decode=True).decode('utf-8')\n",
    "    else:\n",
    "        body = msg.get_payload(decode=True).decode('utf-8')\n",
    "    otp = body.split('OTP is: ')[-1].strip()  # Assuming OTP is included in the email body\n",
    "    \n",
    "    mail.logout()\n",
    "    return otp\n"
   ]
  },
  {
   "cell_type": "markdown",
   "metadata": {},
   "source": [
    "<p style=\"font-size:25px;\"><span style=\"color:yellow;\">Creating DASH App and Setting Layout </span></p>\n"
   ]
  },
  {
   "cell_type": "code",
   "execution_count": 23,
   "metadata": {},
   "outputs": [],
   "source": [
    "# Create Dash app\n",
    "app = dash.Dash(__name__, external_stylesheets=[dbc.themes.BOOTSTRAP])\n",
    "\n",
    "# Define layout\n",
    "app.layout = dbc.Container([\n",
    "    html.H1(\"OTP Verification System\", className=\"text-center mt-5\"),\n",
    "    html.Div([\n",
    "        html.Label(\"Enter your email address:\"),\n",
    "        dcc.Input(id='email-input', type='email', placeholder='Enter email', className='form-control mb-3'),\n",
    "        html.Button('Send OTP', id='send-otp-button', n_clicks=0, className='btn btn-primary mb-3'),\n",
    "        dcc.Input(id='otp-input', type='text', placeholder='Enter OTP', className='form-control mb-3'),\n",
    "        html.Button('Verify OTP', id='verify-otp-button', n_clicks=0, className='btn btn-success mb-3'),\n",
    "        html.Div(id='verification-result', className='mt-3')\n",
    "    ])\n",
    "], className=\"mt-5\")\n",
    "\n",
    "\n",
    "# Callback to send OTP and verify OTP\n",
    "@app.callback(\n",
    "    [Output('otp-input', 'disabled'),\n",
    "     Output('send-otp-button', 'disabled'),\n",
    "     Output('verification-result', 'children')],\n",
    "    [Input('send-otp-button', 'n_clicks'),\n",
    "     Input('verify-otp-button', 'n_clicks')],\n",
    "    [State('email-input', 'value'),\n",
    "     State('otp-input', 'value')],\n",
    "    prevent_initial_call=True\n",
    ")\n",
    "def send_and_verify_otp(send_clicks, verify_clicks, email, entered_otp):\n",
    "    global num_attempts  # Use the global variable\n",
    "\n",
    "    ctx = dash.callback_context\n",
    "    if not ctx.triggered:\n",
    "        return True, False, None\n",
    "    \n",
    "    triggered_id = ctx.triggered[0]['prop_id'].split('.')[0]\n",
    "    if triggered_id == 'send-otp-button':\n",
    "        otp = generate_otp()\n",
    "        sent = send_otp(email, otp)\n",
    "        if sent:\n",
    "            num_attempts = 0  # Reset attempts counter\n",
    "            return False, True, \"An OTP has been sent to your email.\"\n",
    "        else:\n",
    "            return True, False, \"Failed to send OTP. Please try again later.\"\n",
    "    elif triggered_id == 'verify-otp-button':\n",
    "        if num_attempts < 3:  # Check if the number of attempts is less than 3\n",
    "            actual_otp = retrieve_actual_otp(email)\n",
    "            if verify_otp(actual_otp, entered_otp):\n",
    "                num_attempts = 0  # Reset attempts counter\n",
    "                return False, True, \"OTP verified. Access granted!\"\n",
    "            else:\n",
    "                num_attempts += 1  # Increment attempts counter\n",
    "                return False, True, f\"Incorrect OTP. You have {3 - num_attempts} attempts left.\"\n",
    "        else:\n",
    "            return True, True, \"You have exceeded the maximum number of attempts.\"\n"
   ]
  },
  {
   "cell_type": "markdown",
   "metadata": {},
   "source": [
    "<p style=\"font-size:25px;\"><span style=\"color:yellow;\">Run the App Code</span></p>\n"
   ]
  },
  {
   "cell_type": "code",
   "execution_count": 24,
   "metadata": {},
   "outputs": [
    {
     "data": {
      "text/html": [
       "\n",
       "        <iframe\n",
       "            width=\"100%\"\n",
       "            height=\"650\"\n",
       "            src=\"http://127.0.0.1:8050/\"\n",
       "            frameborder=\"0\"\n",
       "            allowfullscreen\n",
       "            \n",
       "        ></iframe>\n",
       "        "
      ],
      "text/plain": [
       "<IPython.lib.display.IFrame at 0x21dc9c2a7d0>"
      ]
     },
     "metadata": {},
     "output_type": "display_data"
    }
   ],
   "source": [
    "if __name__ == '__main__':\n",
    "    app.run_server(debug=True)\n"
   ]
  }
 ],
 "metadata": {
  "kernelspec": {
   "display_name": "Python 3",
   "language": "python",
   "name": "python3"
  },
  "language_info": {
   "codemirror_mode": {
    "name": "ipython",
    "version": 3
   },
   "file_extension": ".py",
   "mimetype": "text/x-python",
   "name": "python",
   "nbconvert_exporter": "python",
   "pygments_lexer": "ipython3",
   "version": "3.11.5"
  }
 },
 "nbformat": 4,
 "nbformat_minor": 2
}
